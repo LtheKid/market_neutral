{
 "cells": [
  {
   "cell_type": "code",
   "execution_count": 73,
   "metadata": {},
   "outputs": [],
   "source": [
    "import pandas as pd\n",
    "import pandas_datareader\n",
    "from pandas_datareader import get_data_yahoo as yh\n",
    "import itertools\n",
    "import time\n",
    "import requests\n",
    "import datetime\n",
    "\n",
    "asset_count=5\n",
    "ma_short=15\n",
    "ma_long=50\n",
    "pv_period=5"
   ]
  },
  {
   "cell_type": "code",
   "execution_count": 74,
   "metadata": {},
   "outputs": [],
   "source": [
    "myassetlist = [\n",
    "    'TSLA',\n",
    "    'GOOG',\n",
    "    'AAPL',\n",
    "    'SPY',\n",
    "    'XLI',\n",
    "    'GME',\n",
    "    'AMC',\n",
    "    'BB',\n",
    "    'NOK',\n",
    "    'NAKD',\n",
    "    'PSA',\n",
    "    'KWEB'\n",
    "]"
   ]
  },
  {
   "cell_type": "code",
   "execution_count": 105,
   "metadata": {},
   "outputs": [],
   "source": [
    "df = yh(myassetlist)['Close'] # Get close prices"
   ]
  },
  {
   "cell_type": "code",
   "execution_count": 106,
   "metadata": {},
   "outputs": [
    {
     "data": {
      "text/html": [
       "<div>\n",
       "<style scoped>\n",
       "    .dataframe tbody tr th:only-of-type {\n",
       "        vertical-align: middle;\n",
       "    }\n",
       "\n",
       "    .dataframe tbody tr th {\n",
       "        vertical-align: top;\n",
       "    }\n",
       "\n",
       "    .dataframe thead th {\n",
       "        text-align: right;\n",
       "    }\n",
       "</style>\n",
       "<table border=\"1\" class=\"dataframe\">\n",
       "  <thead>\n",
       "    <tr style=\"text-align: right;\">\n",
       "      <th>Symbols</th>\n",
       "      <th>GME</th>\n",
       "      <th>TSLA</th>\n",
       "    </tr>\n",
       "    <tr>\n",
       "      <th>Date</th>\n",
       "      <th></th>\n",
       "      <th></th>\n",
       "    </tr>\n",
       "  </thead>\n",
       "  <tbody>\n",
       "    <tr>\n",
       "      <th>2016-02-23</th>\n",
       "      <td>29.440001</td>\n",
       "      <td>35.442001</td>\n",
       "    </tr>\n",
       "    <tr>\n",
       "      <th>2016-02-24</th>\n",
       "      <td>29.889999</td>\n",
       "      <td>35.799999</td>\n",
       "    </tr>\n",
       "    <tr>\n",
       "      <th>2016-02-25</th>\n",
       "      <td>29.959999</td>\n",
       "      <td>37.486000</td>\n",
       "    </tr>\n",
       "    <tr>\n",
       "      <th>2016-02-26</th>\n",
       "      <td>30.540001</td>\n",
       "      <td>38.068001</td>\n",
       "    </tr>\n",
       "    <tr>\n",
       "      <th>2016-02-29</th>\n",
       "      <td>30.820000</td>\n",
       "      <td>38.386002</td>\n",
       "    </tr>\n",
       "    <tr>\n",
       "      <th>...</th>\n",
       "      <td>...</td>\n",
       "      <td>...</td>\n",
       "    </tr>\n",
       "    <tr>\n",
       "      <th>2021-02-12</th>\n",
       "      <td>52.400002</td>\n",
       "      <td>816.119995</td>\n",
       "    </tr>\n",
       "    <tr>\n",
       "      <th>2021-02-16</th>\n",
       "      <td>49.509998</td>\n",
       "      <td>796.219971</td>\n",
       "    </tr>\n",
       "    <tr>\n",
       "      <th>2021-02-17</th>\n",
       "      <td>45.939999</td>\n",
       "      <td>798.150024</td>\n",
       "    </tr>\n",
       "    <tr>\n",
       "      <th>2021-02-18</th>\n",
       "      <td>40.689999</td>\n",
       "      <td>787.380005</td>\n",
       "    </tr>\n",
       "    <tr>\n",
       "      <th>2021-02-19</th>\n",
       "      <td>40.590000</td>\n",
       "      <td>781.299988</td>\n",
       "    </tr>\n",
       "  </tbody>\n",
       "</table>\n",
       "<p>1258 rows × 2 columns</p>\n",
       "</div>"
      ],
      "text/plain": [
       "Symbols           GME        TSLA\n",
       "Date                             \n",
       "2016-02-23  29.440001   35.442001\n",
       "2016-02-24  29.889999   35.799999\n",
       "2016-02-25  29.959999   37.486000\n",
       "2016-02-26  30.540001   38.068001\n",
       "2016-02-29  30.820000   38.386002\n",
       "...               ...         ...\n",
       "2021-02-12  52.400002  816.119995\n",
       "2021-02-16  49.509998  796.219971\n",
       "2021-02-17  45.939999  798.150024\n",
       "2021-02-18  40.689999  787.380005\n",
       "2021-02-19  40.590000  781.299988\n",
       "\n",
       "[1258 rows x 2 columns]"
      ]
     },
     "execution_count": 106,
     "metadata": {},
     "output_type": "execute_result"
    }
   ],
   "source": [
    "df"
   ]
  },
  {
   "cell_type": "code",
   "execution_count": 26,
   "metadata": {},
   "outputs": [],
   "source": [
    "df.to_csv('data.csv') # run this if you wanna export to csv"
   ]
  },
  {
   "cell_type": "code",
   "execution_count": 80,
   "metadata": {},
   "outputs": [
    {
     "data": {
      "text/html": [
       "<div>\n",
       "<style scoped>\n",
       "    .dataframe tbody tr th:only-of-type {\n",
       "        vertical-align: middle;\n",
       "    }\n",
       "\n",
       "    .dataframe tbody tr th {\n",
       "        vertical-align: top;\n",
       "    }\n",
       "\n",
       "    .dataframe thead th {\n",
       "        text-align: right;\n",
       "    }\n",
       "</style>\n",
       "<table border=\"1\" class=\"dataframe\">\n",
       "  <thead>\n",
       "    <tr style=\"text-align: right;\">\n",
       "      <th></th>\n",
       "      <th>20_day_returns</th>\n",
       "      <th>rank</th>\n",
       "    </tr>\n",
       "    <tr>\n",
       "      <th>Symbols</th>\n",
       "      <th></th>\n",
       "      <th></th>\n",
       "    </tr>\n",
       "  </thead>\n",
       "  <tbody>\n",
       "    <tr>\n",
       "      <th>GME</th>\n",
       "      <td>0.082069</td>\n",
       "      <td>12.0</td>\n",
       "    </tr>\n",
       "    <tr>\n",
       "      <th>TSLA</th>\n",
       "      <td>0.065838</td>\n",
       "      <td>11.0</td>\n",
       "    </tr>\n",
       "    <tr>\n",
       "      <th>AAPL</th>\n",
       "      <td>0.030908</td>\n",
       "      <td>10.0</td>\n",
       "    </tr>\n",
       "    <tr>\n",
       "      <th>NAKD</th>\n",
       "      <td>0.028838</td>\n",
       "      <td>9.0</td>\n",
       "    </tr>\n",
       "    <tr>\n",
       "      <th>BB</th>\n",
       "      <td>0.023598</td>\n",
       "      <td>8.0</td>\n",
       "    </tr>\n",
       "    <tr>\n",
       "      <th>KWEB</th>\n",
       "      <td>0.020010</td>\n",
       "      <td>7.0</td>\n",
       "    </tr>\n",
       "    <tr>\n",
       "      <th>GOOG</th>\n",
       "      <td>0.018968</td>\n",
       "      <td>6.0</td>\n",
       "    </tr>\n",
       "    <tr>\n",
       "      <th>AMC</th>\n",
       "      <td>0.018847</td>\n",
       "      <td>5.0</td>\n",
       "    </tr>\n",
       "    <tr>\n",
       "      <th>SPY</th>\n",
       "      <td>0.011846</td>\n",
       "      <td>4.0</td>\n",
       "    </tr>\n",
       "    <tr>\n",
       "      <th>XLI</th>\n",
       "      <td>0.010056</td>\n",
       "      <td>3.0</td>\n",
       "    </tr>\n",
       "    <tr>\n",
       "      <th>NOK</th>\n",
       "      <td>0.000980</td>\n",
       "      <td>2.0</td>\n",
       "    </tr>\n",
       "    <tr>\n",
       "      <th>PSA</th>\n",
       "      <td>-0.000192</td>\n",
       "      <td>1.0</td>\n",
       "    </tr>\n",
       "  </tbody>\n",
       "</table>\n",
       "</div>"
      ],
      "text/plain": [
       "         20_day_returns  rank\n",
       "Symbols                      \n",
       "GME            0.082069  12.0\n",
       "TSLA           0.065838  11.0\n",
       "AAPL           0.030908  10.0\n",
       "NAKD           0.028838   9.0\n",
       "BB             0.023598   8.0\n",
       "KWEB           0.020010   7.0\n",
       "GOOG           0.018968   6.0\n",
       "AMC            0.018847   5.0\n",
       "SPY            0.011846   4.0\n",
       "XLI            0.010056   3.0\n",
       "NOK            0.000980   2.0\n",
       "PSA           -0.000192   1.0"
      ]
     },
     "execution_count": 80,
     "metadata": {},
     "output_type": "execute_result"
    }
   ],
   "source": [
    "# Existing Strategies\n",
    "\n",
    "# Get 20 day returns and rank\n",
    "ranked_momentum = pd.DataFrame(df.pct_change(20).mean().sort_values(ascending = False)) # Ascending to descending returns\n",
    "ranked_momentum.columns = ['20_day_returns']\n",
    "ranked_momentum['rank'] = ranked_assets['20_day_returns'].rank()\n",
    "ranked_momentum\n",
    "\n",
    "#moving average short/long term\n",
    "# (short ma - long ma) / long ma\n",
    "ranked_ma_assets = pd.DataFrame(((df.tail(ma_short).mean()-df.tail(ma_long).mean())/df.tail(ma_long).mean()).sort_values(ascending = False))\n",
    "ranked_ma_assets.columns = ['MA_crossover']\n",
    "ranked_ma_assets['rank'] = ranked_ma_assets.rank()\n",
    "ranked_ma_assets\n",
    "\n",
    "#VPT indicator\n",
    "# Reference: https://www.investopedia.com/terms/v/vptindicator.asp\n",
    "\n",
    "vf=yh(myassetlist)['Volume']\n",
    "ranked_pv_assets = pd.DataFrame(((vf*df.pct_change()).cumsum()).pct_change(pv_period).tail(1).sum().sort_values(ascending = False))\n",
    "ranked_pv_assets\n",
    "\n",
    "ranked_pv_assets.columns = ['VPT_Indicator']\n",
    "ranked_pv_assets['rank'] = ranked_pv_assets.rank()\n",
    "ranked_pv_assets"
   ]
  },
  {
   "cell_type": "markdown",
   "metadata": {},
   "source": [
    "# Combine strategies"
   ]
  },
  {
   "cell_type": "code",
   "execution_count": 87,
   "metadata": {},
   "outputs": [],
   "source": [
    "combined = pd.DataFrame(pd.concat([ranked_momentum,ranked_ma_assets,ranked_pv_assets])['rank'])\n",
    "combined = combined.reset_index()\n",
    "combined = combined.groupby('Symbols').sum().sort_values('rank',ascending=False)"
   ]
  },
  {
   "cell_type": "code",
   "execution_count": 88,
   "metadata": {},
   "outputs": [
    {
     "data": {
      "text/html": [
       "<div>\n",
       "<style scoped>\n",
       "    .dataframe tbody tr th:only-of-type {\n",
       "        vertical-align: middle;\n",
       "    }\n",
       "\n",
       "    .dataframe tbody tr th {\n",
       "        vertical-align: top;\n",
       "    }\n",
       "\n",
       "    .dataframe thead th {\n",
       "        text-align: right;\n",
       "    }\n",
       "</style>\n",
       "<table border=\"1\" class=\"dataframe\">\n",
       "  <thead>\n",
       "    <tr style=\"text-align: right;\">\n",
       "      <th></th>\n",
       "      <th>rank</th>\n",
       "    </tr>\n",
       "    <tr>\n",
       "      <th>Symbols</th>\n",
       "      <th></th>\n",
       "    </tr>\n",
       "  </thead>\n",
       "  <tbody>\n",
       "    <tr>\n",
       "      <th>GME</th>\n",
       "      <td>28.0</td>\n",
       "    </tr>\n",
       "    <tr>\n",
       "      <th>NAKD</th>\n",
       "      <td>28.0</td>\n",
       "    </tr>\n",
       "    <tr>\n",
       "      <th>KWEB</th>\n",
       "      <td>27.0</td>\n",
       "    </tr>\n",
       "    <tr>\n",
       "      <th>AMC</th>\n",
       "      <td>26.0</td>\n",
       "    </tr>\n",
       "    <tr>\n",
       "      <th>TSLA</th>\n",
       "      <td>25.0</td>\n",
       "    </tr>\n",
       "    <tr>\n",
       "      <th>BB</th>\n",
       "      <td>21.0</td>\n",
       "    </tr>\n",
       "    <tr>\n",
       "      <th>SPY</th>\n",
       "      <td>18.0</td>\n",
       "    </tr>\n",
       "    <tr>\n",
       "      <th>GOOG</th>\n",
       "      <td>16.0</td>\n",
       "    </tr>\n",
       "    <tr>\n",
       "      <th>NOK</th>\n",
       "      <td>16.0</td>\n",
       "    </tr>\n",
       "    <tr>\n",
       "      <th>AAPL</th>\n",
       "      <td>13.0</td>\n",
       "    </tr>\n",
       "    <tr>\n",
       "      <th>PSA</th>\n",
       "      <td>10.0</td>\n",
       "    </tr>\n",
       "    <tr>\n",
       "      <th>XLI</th>\n",
       "      <td>6.0</td>\n",
       "    </tr>\n",
       "  </tbody>\n",
       "</table>\n",
       "</div>"
      ],
      "text/plain": [
       "         rank\n",
       "Symbols      \n",
       "GME      28.0\n",
       "NAKD     28.0\n",
       "KWEB     27.0\n",
       "AMC      26.0\n",
       "TSLA     25.0\n",
       "BB       21.0\n",
       "SPY      18.0\n",
       "GOOG     16.0\n",
       "NOK      16.0\n",
       "AAPL     13.0\n",
       "PSA      10.0\n",
       "XLI       6.0"
      ]
     },
     "execution_count": 88,
     "metadata": {},
     "output_type": "execute_result"
    }
   ],
   "source": [
    "combined"
   ]
  },
  {
   "cell_type": "code",
   "execution_count": 90,
   "metadata": {},
   "outputs": [
    {
     "data": {
      "text/plain": [
       "<AxesSubplot:xlabel='Symbols'>"
      ]
     },
     "execution_count": 90,
     "metadata": {},
     "output_type": "execute_result"
    },
    {
     "data": {
      "image/png": "[encoded data removed]",
      "text/plain": [
       "<Figure size 1440x1080 with 1 Axes>"
      ]
     },
     "metadata": {
      "needs_background": "light"
     },
     "output_type": "display_data"
    }
   ],
   "source": [
    "combined.sort_values(by='rank').plot.bar(figsize=(20,15), fontsize=20, rot=0)"
   ]
  },
  {
   "cell_type": "markdown",
   "metadata": {},
   "source": [
    "\n",
    "# Telegram Notification\n"
   ]
  },
  {
   "cell_type": "code",
   "execution_count": 21,
   "metadata": {},
   "outputs": [
    {
     "ename": "ImportError",
     "evalue": "cannot import name 'Bot' from 'telegram' (C:\\Users\\L\\anaconda3\\lib\\site-packages\\telegram\\__init__.py)",
     "output_type": "error",
     "traceback": [
      "\u001b[1;31m---------------------------------------------------------------------------\u001b[0m",
      "\u001b[1;31mImportError\u001b[0m                               Traceback (most recent call last)",
      "\u001b[1;32m<ipython-input-21-a7632a52e599>\u001b[0m in \u001b[0;36m<module>\u001b[1;34m\u001b[0m\n\u001b[0;32m      1\u001b[0m \u001b[1;32mfrom\u001b[0m \u001b[0mtelegram\u001b[0m \u001b[1;32mimport\u001b[0m \u001b[1;33m*\u001b[0m\u001b[1;33m\u001b[0m\u001b[1;33m\u001b[0m\u001b[0m\n\u001b[1;32m----> 2\u001b[1;33m \u001b[1;32mfrom\u001b[0m \u001b[0mtelegram\u001b[0m\u001b[1;33m.\u001b[0m\u001b[0mext\u001b[0m \u001b[1;32mimport\u001b[0m \u001b[1;33m*\u001b[0m\u001b[1;33m\u001b[0m\u001b[1;33m\u001b[0m\u001b[0m\n\u001b[0m\u001b[0;32m      3\u001b[0m \u001b[1;32mimport\u001b[0m \u001b[0mschedule\u001b[0m\u001b[1;33m\u001b[0m\u001b[1;33m\u001b[0m\u001b[0m\n\u001b[0;32m      4\u001b[0m \u001b[1;33m\u001b[0m\u001b[0m\n\u001b[0;32m      5\u001b[0m \u001b[0mtf\u001b[0m\u001b[1;33m=\u001b[0m\u001b[0mpd\u001b[0m\u001b[1;33m.\u001b[0m\u001b[0mread_csv\u001b[0m\u001b[1;33m(\u001b[0m\u001b[1;34m'telegram.csv'\u001b[0m\u001b[1;33m)\u001b[0m\u001b[1;33m\u001b[0m\u001b[1;33m\u001b[0m\u001b[0m\n",
      "\u001b[1;32m~\\anaconda3\\lib\\site-packages\\telegram\\ext\\__init__.py\u001b[0m in \u001b[0;36m<module>\u001b[1;34m\u001b[0m\n\u001b[0;32m     19\u001b[0m \u001b[1;34m\"\"\"Extensions over the Telegram Bot API to facilitate bot making\"\"\"\u001b[0m\u001b[1;33m\u001b[0m\u001b[1;33m\u001b[0m\u001b[0m\n\u001b[0;32m     20\u001b[0m \u001b[1;33m\u001b[0m\u001b[0m\n\u001b[1;32m---> 21\u001b[1;33m \u001b[1;32mfrom\u001b[0m \u001b[1;33m.\u001b[0m\u001b[0mbasepersistence\u001b[0m \u001b[1;32mimport\u001b[0m \u001b[0mBasePersistence\u001b[0m\u001b[1;33m\u001b[0m\u001b[1;33m\u001b[0m\u001b[0m\n\u001b[0m\u001b[0;32m     22\u001b[0m \u001b[1;32mfrom\u001b[0m \u001b[1;33m.\u001b[0m\u001b[0mpicklepersistence\u001b[0m \u001b[1;32mimport\u001b[0m \u001b[0mPicklePersistence\u001b[0m\u001b[1;33m\u001b[0m\u001b[1;33m\u001b[0m\u001b[0m\n\u001b[0;32m     23\u001b[0m \u001b[1;32mfrom\u001b[0m \u001b[1;33m.\u001b[0m\u001b[0mdictpersistence\u001b[0m \u001b[1;32mimport\u001b[0m \u001b[0mDictPersistence\u001b[0m\u001b[1;33m\u001b[0m\u001b[1;33m\u001b[0m\u001b[0m\n",
      "\u001b[1;32m~\\anaconda3\\lib\\site-packages\\telegram\\ext\\basepersistence.py\u001b[0m in \u001b[0;36m<module>\u001b[1;34m\u001b[0m\n\u001b[0;32m     23\u001b[0m \u001b[1;32mfrom\u001b[0m \u001b[0mtyping\u001b[0m \u001b[1;32mimport\u001b[0m \u001b[0mDefaultDict\u001b[0m\u001b[1;33m,\u001b[0m \u001b[0mDict\u001b[0m\u001b[1;33m,\u001b[0m \u001b[0mOptional\u001b[0m\u001b[1;33m,\u001b[0m \u001b[0mTuple\u001b[0m\u001b[1;33m,\u001b[0m \u001b[0mcast\u001b[0m\u001b[1;33m,\u001b[0m \u001b[0mClassVar\u001b[0m\u001b[1;33m\u001b[0m\u001b[1;33m\u001b[0m\u001b[0m\n\u001b[0;32m     24\u001b[0m \u001b[1;33m\u001b[0m\u001b[0m\n\u001b[1;32m---> 25\u001b[1;33m \u001b[1;32mfrom\u001b[0m \u001b[0mtelegram\u001b[0m \u001b[1;32mimport\u001b[0m \u001b[0mBot\u001b[0m\u001b[1;33m\u001b[0m\u001b[1;33m\u001b[0m\u001b[0m\n\u001b[0m\u001b[0;32m     26\u001b[0m \u001b[1;33m\u001b[0m\u001b[0m\n\u001b[0;32m     27\u001b[0m \u001b[1;32mfrom\u001b[0m \u001b[0mtelegram\u001b[0m\u001b[1;33m.\u001b[0m\u001b[0mutils\u001b[0m\u001b[1;33m.\u001b[0m\u001b[0mtypes\u001b[0m \u001b[1;32mimport\u001b[0m \u001b[0mConversationDict\u001b[0m\u001b[1;33m\u001b[0m\u001b[1;33m\u001b[0m\u001b[0m\n",
      "\u001b[1;31mImportError\u001b[0m: cannot import name 'Bot' from 'telegram' (C:\\Users\\L\\anaconda3\\lib\\site-packages\\telegram\\__init__.py)"
     ]
    }
   ],
   "source": [
    "from telegram import *\n",
    "from telegram.ext import *\n",
    "import schedule\n",
    "\n",
    "tf=pd.read_csv('telegram.csv')\n",
    "key=tf.iloc[0,0]\n",
    "chat_id= tf.iloc[0,1]"
   ]
  },
  {
   "cell_type": "code",
   "execution_count": 20,
   "metadata": {},
   "outputs": [
    {
     "ename": "NameError",
     "evalue": "name 'Bot' is not defined",
     "output_type": "error",
     "traceback": [
      "\u001b[1;31m---------------------------------------------------------------------------\u001b[0m",
      "\u001b[1;31mNameError\u001b[0m                                 Traceback (most recent call last)",
      "\u001b[1;32m<ipython-input-20-286d48052e2d>\u001b[0m in \u001b[0;36m<module>\u001b[1;34m\u001b[0m\n\u001b[1;32m----> 1\u001b[1;33m \u001b[0mbot\u001b[0m\u001b[1;33m=\u001b[0m\u001b[0mBot\u001b[0m\u001b[1;33m(\u001b[0m\u001b[0mkey\u001b[0m\u001b[1;33m)\u001b[0m\u001b[1;33m\u001b[0m\u001b[1;33m\u001b[0m\u001b[0m\n\u001b[0m\u001b[0;32m      2\u001b[0m \u001b[0mupdater\u001b[0m\u001b[1;33m=\u001b[0m\u001b[0mUpdater\u001b[0m\u001b[1;33m(\u001b[0m\u001b[0mkey\u001b[0m\u001b[1;33m,\u001b[0m \u001b[0muse_context\u001b[0m\u001b[1;33m=\u001b[0m\u001b[1;32mTrue\u001b[0m\u001b[1;33m)\u001b[0m\u001b[1;33m\u001b[0m\u001b[1;33m\u001b[0m\u001b[0m\n",
      "\u001b[1;31mNameError\u001b[0m: name 'Bot' is not defined"
     ]
    }
   ],
   "source": [
    "bot=Bot(key)\n",
    "updater=Updater(key, use_context=True)"
   ]
  },
  {
   "cell_type": "code",
   "execution_count": 88,
   "metadata": {},
   "outputs": [],
   "source": [
    "def get_stock(summary, key, chat_id):\n",
    "    summary=str(summary)\n",
    "    key=str(key)\n",
    "    chat_id=str(chat_id)\n",
    "    send_table='https://api.telegram.org/bot' + key + '/sendMessage?chat_id=' + chat_id + '&parse_mode=Markdown&text=' + summary\n",
    "    response=requests.get(send_table)"
   ]
  },
  {
   "cell_type": "code",
   "execution_count": 89,
   "metadata": {},
   "outputs": [
    {
     "data": {
      "text/plain": [
       "{'ok': True,\n",
       " 'result': {'message_id': 42,\n",
       "  'from': {'id': 1625635210,\n",
       "   'is_bot': True,\n",
       "   'first_name': 'stock_notification',\n",
       "   'username': 'clarastockbot'},\n",
       "  'chat': {'id': -523735213,\n",
       "   'title': 'Market Neutral',\n",
       "   'type': 'group',\n",
       "   'all_members_are_administrators': True},\n",
       "  'date': 1613898636,\n",
       "  'text': 'Direction\\nSymbols           \\nNAKD             3\\nAMC              2\\nGME              2\\nTSLA             2\\nBB               1\\nAAPL            -1\\nGOOG            -1\\nNOK             -1\\nSPY             -1\\nPSA             -3\\nXLI             -3'}}"
      ]
     },
     "execution_count": 89,
     "metadata": {},
     "output_type": "execute_result"
    }
   ],
   "source": [
    "get_stock(combined, key, chat_id)"
   ]
  },
  {
   "cell_type": "code",
   "execution_count": null,
   "metadata": {},
   "outputs": [],
   "source": [
    "#while True:\n",
    " #   getStock(combined)\n",
    "   # time.sleep(216000)"
   ]
  },
  {
   "cell_type": "markdown",
   "metadata": {},
   "source": [
    "\n",
    "# Production Script\n",
    "Do not touch this part"
   ]
  },
  {
   "cell_type": "code",
   "execution_count": 122,
   "metadata": {},
   "outputs": [
    {
     "name": "stdout",
     "output_type": "stream",
     "text": [
      "Overwriting prod.py\n"
     ]
    }
   ],
   "source": [
    "# %%writefile prod.py\n",
    "import pandas as pd\n",
    "import pandas_datareader\n",
    "from pandas_datareader import get_data_yahoo as yh\n",
    "import itertools\n",
    "\n",
    "# Define variables and inputs:\n",
    "asset_count=5\n",
    "ma_short=15\n",
    "ma_long=50\n",
    "pv_period=5\n",
    "\n",
    "\n",
    "myassetlist = input('Assets here, separated by commas: ')\n",
    "myassetlist = myassetlist.split(',')\n",
    "\n",
    "use_internal_data = input('Use Internal Data csv file? - reply y/n: ')\n",
    "\n",
    "\n",
    "if use_internal_data == 'y':\n",
    "    df = pd.read_csv('data.csv')[myassetlist]\n",
    "else:\n",
    "    df = yh(myassetlist)['Close'] # Get close prices\n",
    "    df.combine_first(pd.read_csv('data.csv', index_col = 'Date', parse_dates=True)).to_csv('data.csv') #update local data source\n",
    "    \n",
    "\n",
    "# Get 20 day returns and rank\n",
    "ranked_momentum = pd.DataFrame(df.pct_change(20).mean().sort_values(ascending = False)) # Ascending to descending returns\n",
    "ranked_momentum.columns = ['20_day_returns']\n",
    "ranked_momentum['rank'] = ranked_assets['20_day_returns'].rank()\n",
    "ranked_momentum\n",
    "\n",
    "#moving average short/long term\n",
    "# (short ma - long ma) / long ma\n",
    "ranked_ma_assets = pd.DataFrame(((df.tail(ma_short).mean()-df.tail(ma_long).mean())/df.tail(ma_long).mean()).sort_values(ascending = False))\n",
    "ranked_ma_assets.columns = ['MA_crossover']\n",
    "ranked_ma_assets['rank'] = ranked_ma_assets.rank()\n",
    "ranked_ma_assets\n",
    "\n",
    "#VPT indicator\n",
    "# Reference: https://www.investopedia.com/terms/v/vptindicator.asp\n",
    "\n",
    "vf=yh(myassetlist)['Volume']\n",
    "ranked_pv_assets = pd.DataFrame(((vf*df.pct_change()).cumsum()).pct_change(pv_period).tail(1).sum().sort_values(ascending = False))\n",
    "ranked_pv_assets\n",
    "\n",
    "ranked_pv_assets.columns = ['VPT_Indicator']\n",
    "ranked_pv_assets['rank'] = ranked_pv_assets.rank()\n",
    "ranked_pv_assets\n",
    "\n",
    "combined = pd.DataFrame(pd.concat([ranked_momentum,ranked_ma_assets,ranked_pv_assets])['rank'])\n",
    "combined = combined.reset_index()\n",
    "combined.columns=['Symbols','rank']\n",
    "combined = combined.groupby('Symbols').sum().sort_values('rank',ascending=False)\n",
    "\n",
    "print('Results')\n",
    "print(combined)\n",
    "combined.sort_values(by='rank').plot.bar(figsize=(20,15), fontsize=20, rot=0)"
   ]
  },
  {
   "cell_type": "code",
   "execution_count": null,
   "metadata": {},
   "outputs": [],
   "source": []
  }
 ],
 "metadata": {
  "kernelspec": {
   "display_name": "Python 3",
   "language": "python",
   "name": "python3"
  },
  "language_info": {
   "codemirror_mode": {
    "name": "ipython",
    "version": 3
   },
   "file_extension": ".py",
   "mimetype": "text/x-python",
   "name": "python",
   "nbconvert_exporter": "python",
   "pygments_lexer": "ipython3",
   "version": "3.8.5"
  }
 },
 "nbformat": 4,
 "nbformat_minor": 4
}
